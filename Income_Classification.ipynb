{
 "cells": [
  {
   "cell_type": "markdown",
   "metadata": {},
   "source": [
    "# Income Classification"
   ]
  },
  {
   "cell_type": "markdown",
   "metadata": {},
   "source": [
    "For this project it was examined the 'adult' dataset with the aim of predicting whether an individual's income will be greater\n",
    "than $50,000 per year. \n",
    "The \"adult\" data was cleaned and prepared, performed exploratory data analisys and applied K-Means clustering. Then were built \n",
    "two classification models, a Logistic Regression classifier and a Random Forest classifier. After training and testing the \n",
    "models, were computed classification statistics such as Confusion Matrix and ROC analysis for evaluating them. The evaluation\n",
    "metrics were presented and commented for each individual model, then compared regarding the overall accuracy and performance."
   ]
  },
  {
   "cell_type": "markdown",
   "metadata": {},
   "source": [
    "## Dataset description"
   ]
  },
  {
   "cell_type": "markdown",
   "metadata": {},
   "source": [
    "The 'adult' dataset contains 32561 observations and 15 attributes. Each entry contains information about an individual, \n",
    "including the income. The dataset is located at UC Irvine Machine Learning Repository:\n",
    "\"https://archive.ics.uci.edu/ml/machine-learning-databases/adult/adult.data\".\n",
    "    \n",
    "**Attribute information:**\n",
    "  \n",
    "- age: the age of a person\n",
    "- fnlwgt: final weight, represents the \"weighted tallies\" of socio-economic characteristics of the population\n",
    "- education-num: contains the codes for different education categories\n",
    "- capital-gain: capital-gains for a person\n",
    "- capital-loss: capital-loss for a person\n",
    "- hours-per-week: the hours a person has reported to work per week\n",
    "- income: weather a person makes less or more than 50K anually\n",
    "- workclass: represents the employment class of a person\n",
    "- education: the highest level of education achieved by a person\n",
    "- marital-status: the marital status of a person\n",
    "- occupation: the general type of occupation of an individual\n",
    "- relationship: represents what an individual is relative to others\n",
    "- race: description of a person's race\n",
    "- sex: the gender of the individual\n",
    "- native-country: contry of origin for a person"
   ]
  },
  {
   "cell_type": "code",
   "execution_count": 1,
   "metadata": {},
   "outputs": [],
   "source": [
    "# Import libraries\n",
    "\n",
    "import pandas as pd\n",
    "import numpy as np\n",
    "import matplotlib.pyplot as plt\n",
    "from sklearn import preprocessing\n",
    "from sklearn.preprocessing import *\n",
    "from sklearn.cluster import KMeans\n",
    "\n",
    "from sklearn.model_selection import train_test_split\n",
    "from sklearn.linear_model import LogisticRegression\n",
    "from sklearn.ensemble import RandomForestClassifier\n",
    "\n",
    "from sklearn.metrics import accuracy_score\n",
    "from sklearn.metrics import confusion_matrix\n",
    "from sklearn.metrics import *\n",
    "from matplotlib import cm\n",
    "\n",
    "%matplotlib inline"
   ]
  },
  {
   "cell_type": "markdown",
   "metadata": {},
   "source": [
    "## Load data"
   ]
  },
  {
   "cell_type": "code",
   "execution_count": 2,
   "metadata": {},
   "outputs": [
    {
     "name": "stdout",
     "output_type": "stream",
     "text": [
      "(32561, 15)\n"
     ]
    },
    {
     "data": {
      "text/html": [
       "<div>\n",
       "<style scoped>\n",
       "    .dataframe tbody tr th:only-of-type {\n",
       "        vertical-align: middle;\n",
       "    }\n",
       "\n",
       "    .dataframe tbody tr th {\n",
       "        vertical-align: top;\n",
       "    }\n",
       "\n",
       "    .dataframe thead th {\n",
       "        text-align: right;\n",
       "    }\n",
       "</style>\n",
       "<table border=\"1\" class=\"dataframe\">\n",
       "  <thead>\n",
       "    <tr style=\"text-align: right;\">\n",
       "      <th></th>\n",
       "      <th>age</th>\n",
       "      <th>workclass</th>\n",
       "      <th>fnlwgt</th>\n",
       "      <th>education</th>\n",
       "      <th>education-num</th>\n",
       "      <th>marital-status</th>\n",
       "      <th>occupation</th>\n",
       "      <th>relationship</th>\n",
       "      <th>race</th>\n",
       "      <th>sex</th>\n",
       "      <th>capital-gain</th>\n",
       "      <th>capital-loss</th>\n",
       "      <th>hours-per-week</th>\n",
       "      <th>native-country</th>\n",
       "      <th>income</th>\n",
       "    </tr>\n",
       "  </thead>\n",
       "  <tbody>\n",
       "    <tr>\n",
       "      <th>0</th>\n",
       "      <td>39</td>\n",
       "      <td>State-gov</td>\n",
       "      <td>77516</td>\n",
       "      <td>Bachelors</td>\n",
       "      <td>13</td>\n",
       "      <td>Never-married</td>\n",
       "      <td>Adm-clerical</td>\n",
       "      <td>Not-in-family</td>\n",
       "      <td>White</td>\n",
       "      <td>Male</td>\n",
       "      <td>2174</td>\n",
       "      <td>0</td>\n",
       "      <td>40</td>\n",
       "      <td>United-States</td>\n",
       "      <td>&lt;=50K</td>\n",
       "    </tr>\n",
       "    <tr>\n",
       "      <th>1</th>\n",
       "      <td>50</td>\n",
       "      <td>Self-emp-not-inc</td>\n",
       "      <td>83311</td>\n",
       "      <td>Bachelors</td>\n",
       "      <td>13</td>\n",
       "      <td>Married-civ-spouse</td>\n",
       "      <td>Exec-managerial</td>\n",
       "      <td>Husband</td>\n",
       "      <td>White</td>\n",
       "      <td>Male</td>\n",
       "      <td>0</td>\n",
       "      <td>0</td>\n",
       "      <td>13</td>\n",
       "      <td>United-States</td>\n",
       "      <td>&lt;=50K</td>\n",
       "    </tr>\n",
       "    <tr>\n",
       "      <th>2</th>\n",
       "      <td>38</td>\n",
       "      <td>Private</td>\n",
       "      <td>215646</td>\n",
       "      <td>HS-grad</td>\n",
       "      <td>9</td>\n",
       "      <td>Divorced</td>\n",
       "      <td>Handlers-cleaners</td>\n",
       "      <td>Not-in-family</td>\n",
       "      <td>White</td>\n",
       "      <td>Male</td>\n",
       "      <td>0</td>\n",
       "      <td>0</td>\n",
       "      <td>40</td>\n",
       "      <td>United-States</td>\n",
       "      <td>&lt;=50K</td>\n",
       "    </tr>\n",
       "    <tr>\n",
       "      <th>3</th>\n",
       "      <td>53</td>\n",
       "      <td>Private</td>\n",
       "      <td>234721</td>\n",
       "      <td>11th</td>\n",
       "      <td>7</td>\n",
       "      <td>Married-civ-spouse</td>\n",
       "      <td>Handlers-cleaners</td>\n",
       "      <td>Husband</td>\n",
       "      <td>Black</td>\n",
       "      <td>Male</td>\n",
       "      <td>0</td>\n",
       "      <td>0</td>\n",
       "      <td>40</td>\n",
       "      <td>United-States</td>\n",
       "      <td>&lt;=50K</td>\n",
       "    </tr>\n",
       "    <tr>\n",
       "      <th>4</th>\n",
       "      <td>28</td>\n",
       "      <td>Private</td>\n",
       "      <td>338409</td>\n",
       "      <td>Bachelors</td>\n",
       "      <td>13</td>\n",
       "      <td>Married-civ-spouse</td>\n",
       "      <td>Prof-specialty</td>\n",
       "      <td>Wife</td>\n",
       "      <td>Black</td>\n",
       "      <td>Female</td>\n",
       "      <td>0</td>\n",
       "      <td>0</td>\n",
       "      <td>40</td>\n",
       "      <td>Cuba</td>\n",
       "      <td>&lt;=50K</td>\n",
       "    </tr>\n",
       "  </tbody>\n",
       "</table>\n",
       "</div>"
      ],
      "text/plain": [
       "   age          workclass  fnlwgt   education  education-num  \\\n",
       "0   39          State-gov   77516   Bachelors             13   \n",
       "1   50   Self-emp-not-inc   83311   Bachelors             13   \n",
       "2   38            Private  215646     HS-grad              9   \n",
       "3   53            Private  234721        11th              7   \n",
       "4   28            Private  338409   Bachelors             13   \n",
       "\n",
       "        marital-status          occupation    relationship    race      sex  \\\n",
       "0        Never-married        Adm-clerical   Not-in-family   White     Male   \n",
       "1   Married-civ-spouse     Exec-managerial         Husband   White     Male   \n",
       "2             Divorced   Handlers-cleaners   Not-in-family   White     Male   \n",
       "3   Married-civ-spouse   Handlers-cleaners         Husband   Black     Male   \n",
       "4   Married-civ-spouse      Prof-specialty            Wife   Black   Female   \n",
       "\n",
       "   capital-gain  capital-loss  hours-per-week  native-country  income  \n",
       "0          2174             0              40   United-States   <=50K  \n",
       "1             0             0              13   United-States   <=50K  \n",
       "2             0             0              40   United-States   <=50K  \n",
       "3             0             0              40   United-States   <=50K  \n",
       "4             0             0              40            Cuba   <=50K  "
      ]
     },
     "execution_count": 2,
     "metadata": {},
     "output_type": "execute_result"
    }
   ],
   "source": [
    "# Read in dataset as pandas data frame\n",
    "\n",
    "# Create a dataframe using adult dataset\n",
    "url = \"https://archive.ics.uci.edu/ml/machine-learning-databases/adult/adult.data\"\n",
    "adult = pd.read_csv(url, header=None)\n",
    "\n",
    "# Assign column names from documentation at: https://archive.ics.uci.edu/ml/machine-learning-databases/adult/adult.names\n",
    "adult.columns = [\"age\", \"workclass\", \"fnlwgt\", \"education\", \"education-num\",\n",
    "                 \"marital-status\", \"occupation\", \"relationship\", \"race\", \n",
    "                 \"sex\", \"capital-gain\", \"capital-loss\", \"hours-per-week\", \n",
    "                 \"native-country\", \"income\"]\n",
    "\n",
    "# Check the size of the dataframe and display the first few rows\n",
    "print(adult.shape)\n",
    "adult.head()\n",
    "#adult.tail()"
   ]
  },
  {
   "cell_type": "markdown",
   "metadata": {},
   "source": [
    "Next we check the datatypes of the columns and the summary statistics."
   ]
  },
  {
   "cell_type": "code",
   "execution_count": 3,
   "metadata": {},
   "outputs": [
    {
     "data": {
      "text/plain": [
       "age                int64\n",
       "workclass         object\n",
       "fnlwgt             int64\n",
       "education         object\n",
       "education-num      int64\n",
       "marital-status    object\n",
       "occupation        object\n",
       "relationship      object\n",
       "race              object\n",
       "sex               object\n",
       "capital-gain       int64\n",
       "capital-loss       int64\n",
       "hours-per-week     int64\n",
       "native-country    object\n",
       "income            object\n",
       "dtype: object"
      ]
     },
     "execution_count": 3,
     "metadata": {},
     "output_type": "execute_result"
    }
   ],
   "source": [
    "# Check the datatypes of the columns\n",
    "adult.dtypes"
   ]
  },
  {
   "cell_type": "code",
   "execution_count": 4,
   "metadata": {},
   "outputs": [
    {
     "data": {
      "text/html": [
       "<div>\n",
       "<style scoped>\n",
       "    .dataframe tbody tr th:only-of-type {\n",
       "        vertical-align: middle;\n",
       "    }\n",
       "\n",
       "    .dataframe tbody tr th {\n",
       "        vertical-align: top;\n",
       "    }\n",
       "\n",
       "    .dataframe thead th {\n",
       "        text-align: right;\n",
       "    }\n",
       "</style>\n",
       "<table border=\"1\" class=\"dataframe\">\n",
       "  <thead>\n",
       "    <tr style=\"text-align: right;\">\n",
       "      <th></th>\n",
       "      <th>age</th>\n",
       "      <th>fnlwgt</th>\n",
       "      <th>education-num</th>\n",
       "      <th>capital-gain</th>\n",
       "      <th>capital-loss</th>\n",
       "      <th>hours-per-week</th>\n",
       "    </tr>\n",
       "  </thead>\n",
       "  <tbody>\n",
       "    <tr>\n",
       "      <th>count</th>\n",
       "      <td>32561.000000</td>\n",
       "      <td>3.256100e+04</td>\n",
       "      <td>32561.000000</td>\n",
       "      <td>32561.000000</td>\n",
       "      <td>32561.000000</td>\n",
       "      <td>32561.000000</td>\n",
       "    </tr>\n",
       "    <tr>\n",
       "      <th>mean</th>\n",
       "      <td>38.581647</td>\n",
       "      <td>1.897784e+05</td>\n",
       "      <td>10.080679</td>\n",
       "      <td>1077.648844</td>\n",
       "      <td>87.303830</td>\n",
       "      <td>40.437456</td>\n",
       "    </tr>\n",
       "    <tr>\n",
       "      <th>std</th>\n",
       "      <td>13.640433</td>\n",
       "      <td>1.055500e+05</td>\n",
       "      <td>2.572720</td>\n",
       "      <td>7385.292085</td>\n",
       "      <td>402.960219</td>\n",
       "      <td>12.347429</td>\n",
       "    </tr>\n",
       "    <tr>\n",
       "      <th>min</th>\n",
       "      <td>17.000000</td>\n",
       "      <td>1.228500e+04</td>\n",
       "      <td>1.000000</td>\n",
       "      <td>0.000000</td>\n",
       "      <td>0.000000</td>\n",
       "      <td>1.000000</td>\n",
       "    </tr>\n",
       "    <tr>\n",
       "      <th>25%</th>\n",
       "      <td>28.000000</td>\n",
       "      <td>1.178270e+05</td>\n",
       "      <td>9.000000</td>\n",
       "      <td>0.000000</td>\n",
       "      <td>0.000000</td>\n",
       "      <td>40.000000</td>\n",
       "    </tr>\n",
       "    <tr>\n",
       "      <th>50%</th>\n",
       "      <td>37.000000</td>\n",
       "      <td>1.783560e+05</td>\n",
       "      <td>10.000000</td>\n",
       "      <td>0.000000</td>\n",
       "      <td>0.000000</td>\n",
       "      <td>40.000000</td>\n",
       "    </tr>\n",
       "    <tr>\n",
       "      <th>75%</th>\n",
       "      <td>48.000000</td>\n",
       "      <td>2.370510e+05</td>\n",
       "      <td>12.000000</td>\n",
       "      <td>0.000000</td>\n",
       "      <td>0.000000</td>\n",
       "      <td>45.000000</td>\n",
       "    </tr>\n",
       "    <tr>\n",
       "      <th>max</th>\n",
       "      <td>90.000000</td>\n",
       "      <td>1.484705e+06</td>\n",
       "      <td>16.000000</td>\n",
       "      <td>99999.000000</td>\n",
       "      <td>4356.000000</td>\n",
       "      <td>99.000000</td>\n",
       "    </tr>\n",
       "  </tbody>\n",
       "</table>\n",
       "</div>"
      ],
      "text/plain": [
       "                age        fnlwgt  education-num  capital-gain  capital-loss  \\\n",
       "count  32561.000000  3.256100e+04   32561.000000  32561.000000  32561.000000   \n",
       "mean      38.581647  1.897784e+05      10.080679   1077.648844     87.303830   \n",
       "std       13.640433  1.055500e+05       2.572720   7385.292085    402.960219   \n",
       "min       17.000000  1.228500e+04       1.000000      0.000000      0.000000   \n",
       "25%       28.000000  1.178270e+05       9.000000      0.000000      0.000000   \n",
       "50%       37.000000  1.783560e+05      10.000000      0.000000      0.000000   \n",
       "75%       48.000000  2.370510e+05      12.000000      0.000000      0.000000   \n",
       "max       90.000000  1.484705e+06      16.000000  99999.000000   4356.000000   \n",
       "\n",
       "       hours-per-week  \n",
       "count    32561.000000  \n",
       "mean        40.437456  \n",
       "std         12.347429  \n",
       "min          1.000000  \n",
       "25%         40.000000  \n",
       "50%         40.000000  \n",
       "75%         45.000000  \n",
       "max         99.000000  "
      ]
     },
     "execution_count": 4,
     "metadata": {},
     "output_type": "execute_result"
    }
   ],
   "source": [
    "# Display summary statistics\n",
    "adult.describe()"
   ]
  },
  {
   "cell_type": "markdown",
   "metadata": {},
   "source": [
    "Observations regarding the dataset based on datatypes and summary statistics:\n",
    "    \n",
    "- There are 9 categorical and 6 numerical attributes in the adult dataset. The numerical columns are of type integer (int64)\n",
    "and the categorical columns are of object type. \n",
    "- Some of the categorical columns contain multiple categories. Before building the classification models, we need to \n",
    "consolidate the categories in those columns.\n",
    "- The column \"age\" has a range between 17 and 90 with a median value of 37. The variable \"hours-per-week\" has a minnimum of 1\n",
    "and a maximum of 99. The values in these columns need to be binned in specific buckets.\n",
    "- For both \"capital-gain\" and \"capital-loss\" attributes, the values for minimum, first and third quartiles is zero. The \n",
    "maximum values are very large.\n",
    "- For the \"hours-per-week\" attribute the mean and median are equal with a value of 40."
   ]
  },
  {
   "cell_type": "markdown",
   "metadata": {},
   "source": [
    "## Data Cleaning and Preparation"
   ]
  },
  {
   "cell_type": "markdown",
   "metadata": {},
   "source": [
    "Before exploring the variables and building the classification model, the data was cleaned and prepared as mentioned below:\n",
    "   \n",
    "- Find and impute missing values\n",
    "- Replace outliers\n",
    "- Bin categorical variables\n",
    "- Normalize numeric variables\n",
    "- Consolidate categories\n",
    "- Remove obsolete columns\n",
    "- Replace classes in target variable\n",
    "- One-hot encoding\n",
    "- Apply K-Means clustering and add the cluster labels to dataset"
   ]
  },
  {
   "cell_type": "markdown",
   "metadata": {},
   "source": [
    "### Find and impute missing values"
   ]
  },
  {
   "cell_type": "markdown",
   "metadata": {},
   "source": [
    "Some of the categorical columns in 'adult' dataframe contain missing values marked with \" ?\". Below it is checked which \n",
    "columns contain missing values and the count for each column. "
   ]
  },
  {
   "cell_type": "code",
   "execution_count": null,
   "metadata": {},
   "outputs": [],
   "source": [
    "# Check if there are missing value\n",
    "#(adult.astype(np.object) == \" ?\").any()\n",
    "\n",
    "# Get the number of missing values in each column\n",
    "#Empty = adult.loc[:, :] == \" ?\"\n",
    "#Empty.sum()\n",
    "\n",
    "# Check the categories in the columns with missing values\n",
    "\n",
    "# List with columns with missing values\n",
    "#cols_missing = ['workclass', 'occupation', 'native-country']\n",
    "\n",
    "# Loop through the list and display the categories for each variable\n",
    "#for col in cols_missing:\n",
    "#    print(col, \"\\n\", adult.loc[:, col].value_counts(), \"\\n\")"
   ]
  },
  {
   "cell_type": "markdown",
   "metadata": {},
   "source": [
    "It can be observed that there are missing values in the following columns: \"workclass\", \"occupation\" and \"native-country\". \n",
    "Variables \"workclass\" and \"occupation\" have 1843 missing values and \"native-country\" has 583.\n",
    "Using value_counts() it is checked the frequency table for each variable and observed the most common category for each \n",
    "of them:\n",
    "- variable \"workclass\": most common category is \" Private\"\n",
    "- variable \"occupation\": most common category is \" Prof-specialty\"\n",
    "- variable \"native_country\": most common category is \" United-States\"  \n",
    "    \n",
    "The columns with missing values are of categorical type, so we'll impute the missing values with the most common category \n",
    "in each column."
   ]
  },
  {
   "cell_type": "code",
   "execution_count": 5,
   "metadata": {},
   "outputs": [],
   "source": [
    "# Impute missing values for categorical column 'workclass'\n",
    "\n",
    "# Specify the locations that have a missing value\n",
    "MissingValue = adult.loc[:, \"workclass\"] == ' ?'\n",
    "# Impute missing values using the most common category \"Private\"\n",
    "adult.loc[MissingValue, \"workclass\"] = \" Private\"\n",
    "\n",
    "# Impute missing values for categorical column 'occupation'\n",
    "\n",
    "# Specify the locations that have a missing value\n",
    "MissingValue = adult.loc[:, \"occupation\"] == ' ?'\n",
    "# Impute missing values using the most common category \"Prof-specialty\"\n",
    "adult.loc[MissingValue, \"occupation\"] = \" Prof-specialty\"\n",
    "\n",
    "# Impute missing values for categorical column 'native-country'\n",
    "\n",
    "# Specify the locations that have a missing value\n",
    "MissingValue = adult.loc[:, \"native-country\"] == ' ?'\n",
    "# Impute missing values using the most common category \"United-States\"\n",
    "adult.loc[MissingValue, \"native-country\"] = \" United-States\"\n",
    "\n",
    "# Check again the categories\n",
    "#for col in cols_missing:\n",
    "#    print(col, \"\\n\", adult.loc[:, col].value_counts(), \"\\n\")"
   ]
  },
  {
   "cell_type": "markdown",
   "metadata": {},
   "source": [
    "After re-checking the frequency tables, we can see that there are no more missing values."
   ]
  },
  {
   "cell_type": "markdown",
   "metadata": {},
   "source": [
    "### Replace outliers"
   ]
  },
  {
   "cell_type": "markdown",
   "metadata": {},
   "source": [
    "The summary statistics and the histograms for continuos variables \"capital_gain\", \"capital_loss\" and \"fnlwgt\" suggest that they\n",
    "may have outliers. \n",
    "The code below creates a Boolean flag for values that lie outside the limits of mean plus/minus two standard deviations, and \n",
    "replaces them with the mean of the non-outliers (values inside the limits of mean plus/minus two standard deviations). "
   ]
  },
  {
   "cell_type": "code",
   "execution_count": 6,
   "metadata": {},
   "outputs": [],
   "source": [
    "#plt.hist(adult['fnlwgt'])\n",
    "#plt.hist(adult['capital-gain'])\n",
    "#plt.hist(adult['capital-loss'])\n",
    "\n",
    "# Create a list with columns containing outliers\n",
    "cols = [\"fnlwgt\", \"capital-gain\", \"capital-loss\"]\n",
    "\n",
    "# Loop through each column and replace outliers with the mean of non-outliers\n",
    "for col in cols:\n",
    "    # Calculate the upper and lower limits for values that are not outliers\n",
    "    Lo = np.mean(adult.loc[:, col]) - 2*np.std(adult.loc[:, col])\n",
    "    Hi = np.mean(adult.loc[:, col]) + 2*np.std(adult.loc[:, col])\n",
    "    \n",
    "    # Create a flag for values outside of limits\n",
    "    FlagBad = (adult.loc[:, col] < Lo) | (adult.loc[:, col] > Hi)\n",
    "    \n",
    "    # FlagGood is the complement of FlagBad\n",
    "    FlagGood = ~FlagBad\n",
    "    \n",
    "    # Replace outleiers with the mean of non-outliers\n",
    "    adult.loc[FlagBad, col] = np.mean(adult.loc[FlagGood, col])\n",
    "\n",
    "    \n",
    "# Check again the histogram of each variable\n",
    "#plt.hist(adult['fnlwgt'])\n",
    "#plt.hist(adult['capital-gain'])\n",
    "#plt.hist(adult['capital-loss'])"
   ]
  },
  {
   "cell_type": "markdown",
   "metadata": {},
   "source": [
    "To gain insights about which features would be most helpful for building the classification model, we will analyse \n",
    "the distributions of different variables, mainly in relationship with the label."
   ]
  },
  {
   "cell_type": "markdown",
   "metadata": {},
   "source": [
    "# Exploratory Data Analysis"
   ]
  },
  {
   "cell_type": "markdown",
   "metadata": {},
   "source": [
    "The education feature describes the highest level of education of each individual in the dataset. The distribution of different\n",
    "levels are presented in the plot below, depending on the income.\n",
    "It can be noted that most individuals in the dataset have a high school education, followed by people with some college and \n",
    "bachelors. Much lower frequencies present people with either Doctorate and Prof-school.\n",
    "The levels \"Masters\", \"Bachelors\" and \"Some-college\" have the highest count of income over 50K."
   ]
  },
  {
   "cell_type": "code",
   "execution_count": 7,
   "metadata": {},
   "outputs": [
    {
     "data": {
      "image/png": "[encoded data removed]",
      "text/plain": [
       "<Figure size 576x360 with 1 Axes>"
      ]
     },
     "metadata": {
      "needs_background": "light"
     },
     "output_type": "display_data"
    }
   ],
   "source": [
    "from matplotlib import cm\n",
    "\n",
    "cmap = cm.get_cmap('winter')    \n",
    "\n",
    "adult.groupby(['education', 'income']).size().unstack().plot(kind='barh', stacked=True, figsize=(8, 5), cmap=cmap, edgecolor='None')\n",
    "plt.title('Education by Income')\n",
    "plt.xlabel('Number of Entries')\n",
    "plt.ylabel('Education')\n",
    "plt.show()"
   ]
  },
  {
   "cell_type": "markdown",
   "metadata": {},
   "source": [
    "The graph of workclass vs income shows that the majority of people work in the private sector. The highest frequency is for \n",
    "income less than 50K. Among the rest of other workclass categories, the chances of making more than 50K are lower, \n",
    "except for self-emp-inc and government."
   ]
  },
  {
   "cell_type": "code",
   "execution_count": 8,
   "metadata": {},
   "outputs": [
    {
     "data": {
      "image/png": "[encoded data removed]",
      "text/plain": [
       "<Figure size 504x288 with 1 Axes>"
      ]
     },
     "metadata": {
      "needs_background": "light"
     },
     "output_type": "display_data"
    }
   ],
   "source": [
    "adult.groupby(['workclass', 'income']).size().unstack().plot(kind='barh', stacked=True, figsize=(7, 4), cmap=cmap, edgecolor='None')\n",
    "plt.title('Workclass by Income')\n",
    "plt.xlabel('Number of Entries')\n",
    "plt.ylabel('Workclass')\n",
    "plt.show()"
   ]
  },
  {
   "cell_type": "markdown",
   "metadata": {},
   "source": [
    "The \"Occupation by Income\" plot below shows a somewhat uniform distribution of occupations in the dataset, except for the \n",
    "\"Armed Forces\" that has a very low count of values. For some occupations as Prof-specialty and Exec-managerial there is a \n",
    "high number of individuals that make over 50K. Others like Handlers-cleaners, Other-service and Farming-fishing have a \n",
    "significantly lower number of people with income higher than 50K."
   ]
  },
  {
   "cell_type": "code",
   "execution_count": 9,
   "metadata": {},
   "outputs": [
    {
     "data": {
      "image/png": "[encoded data removed]",
      "text/plain": [
       "<Figure size 648x360 with 1 Axes>"
      ]
     },
     "metadata": {
      "needs_background": "light"
     },
     "output_type": "display_data"
    }
   ],
   "source": [
    "adult.groupby(['occupation', 'income']).size().unstack().plot(kind='barh', stacked=True, figsize=(9, 5), cmap=cmap, edgecolor='None')\n",
    "plt.title('Occupation by Income')\n",
    "plt.xlabel('Number of Entries')\n",
    "plt.ylabel('Occupation')\n",
    "plt.show()"
   ]
  },
  {
   "cell_type": "markdown",
   "metadata": {},
   "source": [
    "The frequency count for male is much higher comparing with female in the distribution of gender by income. Also, for the male \n",
    "gender there is a higher distribution of income  higher than 50K."
   ]
  },
  {
   "cell_type": "code",
   "execution_count": 10,
   "metadata": {},
   "outputs": [
    {
     "data": {
      "image/png": "[encoded data removed]",
      "text/plain": [
       "<Figure size 288x288 with 1 Axes>"
      ]
     },
     "metadata": {
      "needs_background": "light"
     },
     "output_type": "display_data"
    }
   ],
   "source": [
    "adult.groupby(['sex', 'income']).size().unstack().plot(kind='bar', stacked=True, figsize=(4,4 ), cmap=cmap, edgecolor='None')\n",
    "plt.title('Gender by Income')\n",
    "plt.xlabel('Gender')\n",
    "plt.xticks(rotation=0)\n",
    "plt.ylabel('Number of Entries')\n",
    "plt.show()"
   ]
  },
  {
   "cell_type": "markdown",
   "metadata": {},
   "source": [
    "Most of the entries in the 'Race vs Income' plot are \"white\" followed by \"black\" and \"asian\". Income less than 50K has the \n",
    "highest percentage for all races."
   ]
  },
  {
   "cell_type": "code",
   "execution_count": null,
   "metadata": {},
   "outputs": [],
   "source": [
    "#adult.groupby(['race', 'income']).size().unstack().plot(kind='barh', stacked=True, figsize=(9, 5), cmap=cmap, edgecolor='None')\n",
    "#plt.title('Race by Income')\n",
    "#plt.xlabel('Number of Entries')\n",
    "#plt.ylabel('Race')\n",
    "#plt.show()"
   ]
  },
  {
   "cell_type": "markdown",
   "metadata": {},
   "source": [
    "The EDA displayed some relationships between the variables and income which will be helpful in selecting the variables for \n",
    "predictive models."
   ]
  },
  {
   "cell_type": "markdown",
   "metadata": {},
   "source": [
    "### Binning variables"
   ]
  },
  {
   "cell_type": "markdown",
   "metadata": {},
   "source": [
    "The discrete variables 'age' and 'hours-per-week' are binned in specific intervals (bins). From summary statistics we can \n",
    "observe that \"age\" has a minimum value of 17 and a maxim of 90, while the range for \"hours-per-week\" is between 1 and 99.\n",
    "To select the number and limits of the bins are plotted the histograms for those variables. Then it is created a list for\n",
    "the bins and a list for the bin labels. The variable is binned using the pandas function cut(). "
   ]
  },
  {
   "cell_type": "code",
   "execution_count": null,
   "metadata": {},
   "outputs": [],
   "source": [
    "# Plot the histogram of \"age\"\n",
    "#plt.hist(adult['age'], bins=5, color='blue')\n",
    "#plt.title(\"Histogram of age\")"
   ]
  },
  {
   "cell_type": "code",
   "execution_count": 11,
   "metadata": {},
   "outputs": [
    {
     "data": {
      "text/plain": [
       "25_45     16523\n",
       "45_65      8469\n",
       "17_25      6016\n",
       "Over65     1158\n",
       "Name: age, dtype: int64"
      ]
     },
     "execution_count": 11,
     "metadata": {},
     "output_type": "execute_result"
    }
   ],
   "source": [
    "# Bin the variable \"age\"\n",
    "\n",
    "# Create a list with bins limits\n",
    "bins_age = [17, 25, 45, 65, 90]   \n",
    "# Create a list with labels for the bins\n",
    "age_categ = ['17_25', '25_45', '45_65', 'Over65']  \n",
    "# Use pandas cut() function for binning\n",
    "binAge = pd.cut(adult.loc[:, 'age'], bins_age, labels=age_categ)    \n",
    "# Add the binned \"age\" to adult dataset\n",
    "adult['age'] = binAge\n",
    "# Check the counts for each bin\n",
    "adult.loc[:, 'age'].value_counts()\n",
    "\n",
    "# Display a bar plot of the bins for \"age\"\n",
    "#adult.loc[:,\"age\"].value_counts().plot(kind='bar')\n",
    "#plt.title(\"Bar plot binned age\")"
   ]
  },
  {
   "cell_type": "markdown",
   "metadata": {},
   "source": [
    "After binning, we can plot 'age' trying to get some insights of it's distribution by income."
   ]
  },
  {
   "cell_type": "code",
   "execution_count": 12,
   "metadata": {},
   "outputs": [
    {
     "data": {
      "image/png": "[encoded data removed]",
      "text/plain": [
       "<Figure size 432x288 with 1 Axes>"
      ]
     },
     "metadata": {
      "needs_background": "light"
     },
     "output_type": "display_data"
    }
   ],
   "source": [
    "# Age (after binning) vs income\n",
    "\n",
    "# Select a color map\n",
    "cmap = cm.get_cmap('winter') \n",
    "\n",
    "# Plot age grouped by income\n",
    "adult.groupby(['age', 'income']).size().unstack().plot(kind='bar', stacked=True, figsize=(6, 4), cmap=cmap, edgecolor='None')\n",
    "plt.title('Age by Income')\n",
    "plt.xlabel('Age group')\n",
    "plt.xticks(rotation=0)\n",
    "plt.ylabel('Number of Entries')\n",
    "plt.show()"
   ]
  },
  {
   "cell_type": "markdown",
   "metadata": {},
   "source": [
    "The graph shows a significat amount of variance between the counts of individuals with income >50K and <=50K between different \n",
    "age groups. The highest count is for the group age 25-45. In this group the highest frequency is for income less than 50K, but \n",
    "there is still a good amount of people making over 50K. Next age group is between 45-65 with almost equal amount for both \n",
    "categories, unde and over 50K. For the groups between 17-25  and over 65 the income is mostly under 50K, with slim changes \n",
    "for income over 50K. \n",
    "\n",
    "Similarly we'll bin the variable \"hours_per_week\" and plot it's distribution vs income."
   ]
  },
  {
   "cell_type": "code",
   "execution_count": 13,
   "metadata": {},
   "outputs": [
    {
     "data": {
      "text/plain": [
       "40     15217\n",
       ">40     9581\n",
       "<40     7743\n",
       "Name: hours-per-week, dtype: int64"
      ]
     },
     "execution_count": 13,
     "metadata": {},
     "output_type": "execute_result"
    }
   ],
   "source": [
    "# Bin the variable \"hours_per_week\"\n",
    "\n",
    "# Plot the histogram of \"hours-per-week\"\n",
    "#plt.hist(adult[\"hours-per-week\"])\n",
    "\n",
    "# Create a list with bins limits\n",
    "bins_hours = [1, 39, 40, 99]\n",
    "# Create a list with labels for the bins\n",
    "hours_categ = ['<40', '40', '>40']  # labels for 3 bins\n",
    "# Use pandas cut() function for binning\n",
    "binHours = pd.cut(adult['hours-per-week'], bins_hours, labels=hours_categ)\n",
    "# Add binned \"hours_per_week\" to adult dataframe\n",
    "adult.loc[:, 'hours-per-week'] = binHours\n",
    "# Check the counts for each bin\n",
    "adult.loc[:, 'hours-per-week'].value_counts()\n",
    "\n",
    "# Display a bar plot of the bins for \"hours-per-week\"\n",
    "#adult.loc[:,\"hours-per-week\"].value_counts().plot(kind='bar')\n",
    "#plt.title(\"Bar plot binned hours-per-week\")"
   ]
  },
  {
   "cell_type": "code",
   "execution_count": 14,
   "metadata": {},
   "outputs": [
    {
     "data": {
      "image/png": "[encoded data removed]",
      "text/plain": [
       "<Figure size 432x288 with 1 Axes>"
      ]
     },
     "metadata": {
      "needs_background": "light"
     },
     "output_type": "display_data"
    }
   ],
   "source": [
    "# Hours-per-week (after binning) vs income\n",
    "\n",
    "cmap = cm.get_cmap('winter')\n",
    "\n",
    "adult.groupby(['hours-per-week', 'income']).size().unstack().plot(kind='bar', stacked=True, figsize=(6, 4), cmap=cmap, edgecolor='None')\n",
    "plt.title('Hours per week by Income')\n",
    "plt.xlabel('Number of Entries')\n",
    "plt.xticks(rotation=0)\n",
    "plt.ylabel('Hours_per_week')\n",
    "plt.show()"
   ]
  },
  {
   "cell_type": "markdown",
   "metadata": {},
   "source": [
    "The plot above shows that the majority of individuals work 40 hours per week. The percentage of individuals making over 50K\n",
    "decreases sharp for less than 40 hours per week and increases significantly for more than 40 hours per week.\n",
    "\n",
    "The dataset cleaning continues with normalization of the numeric variables."
   ]
  },
  {
   "cell_type": "markdown",
   "metadata": {},
   "source": [
    "### Normalize numeric variables"
   ]
  },
  {
   "cell_type": "markdown",
   "metadata": {},
   "source": [
    "Before building a classification model algorithm, the numerical columns \"fnlwgt\", \"capital-gain\", \"capital-loss\" need to be \n",
    "normalized so the values are all in the same range. The values were normalized using the MinMax normalization which re-scales\n",
    "the variables to the range of [0, 1]."
   ]
  },
  {
   "cell_type": "code",
   "execution_count": 15,
   "metadata": {},
   "outputs": [],
   "source": [
    "# Create a dataframe with the colums to normalize\n",
    "norm_cols = adult.loc[:, [\"fnlwgt\", \"capital-gain\", \"capital-loss\"]]\n",
    "# Extract the values in X numpy array\n",
    "X = norm_cols.values\n",
    "# Create the scaler, then fit and transform the values in X\n",
    "scaler = preprocessing.MinMaxScaler()\n",
    "X_scaled = scaler.fit_transform(X)\n",
    "# Create a list with column names \n",
    "cols = [\"fnlwgt\", \"capital-gain\", \"capital-loss\"]\n",
    "# Make a dataframe and give names to scaled columns\n",
    "X_scaled = pd.DataFrame(X_scaled, columns=cols)         \n",
    "#X_scaled.head()\n",
    "# Replace the scaled columns in adult dataframe\n",
    "adult['fnlwgt'] = X_scaled['fnlwgt']                   \n",
    "adult['capital-gain'] = X_scaled['capital-gain']\n",
    "adult['capital-loss'] = X_scaled['capital-loss']\n",
    "\n",
    "# Check the first few rows\n",
    "#adult.head()"
   ]
  },
  {
   "cell_type": "markdown",
   "metadata": {},
   "source": [
    "### Drop redundant column"
   ]
  },
  {
   "cell_type": "markdown",
   "metadata": {},
   "source": [
    "The \"education-num\" column contains codes corresponding to different education categories: for example 1 is \" Preschool\",\n",
    "2 is \" 1st-4th\" etc. It can be observed that the categories are the same as in column \"education\", so \"education-num\" is\n",
    "redundant. We will keep only \"education\" variable and drop the \"education-num\"."
   ]
  },
  {
   "cell_type": "code",
   "execution_count": 16,
   "metadata": {},
   "outputs": [],
   "source": [
    "# Drop column \"education-num\"\n",
    "adult = adult.drop(\"education-num\", axis=1)\n",
    "\n",
    "# Check that \"education-num\" is not anymore in the list of columns\n",
    "#adult.columns"
   ]
  },
  {
   "cell_type": "markdown",
   "metadata": {},
   "source": [
    "### Consolidate categories"
   ]
  },
  {
   "cell_type": "markdown",
   "metadata": {},
   "source": [
    "The frequency table of categorical columns shows that some of them contain multiple categories. Some categories have high \n",
    "counts, while others have only a few.  For this reason, the categories in categorical columns are simplified by consolidating\n",
    "the categories. To understand which are the main categories for a variable, were plotted bar plots. \n",
    "For example, the column \"education\" has 16 categories with highest frequency count represented by HS graduates, while some of \n",
    "other categories have only several counts. These categories were consolidated as follows: \"Preschool\" to \"11th\" were \n",
    "consolidated under \"12th\", and the rest of categories under \"Some-college\".\n",
    "\n",
    "It was apllied a similar approach for other categorical columns:\n",
    "- workclass: the bar plot distribution shows the highest frequency count for Private sector and much lower values for\n",
    "Government and Self-employee\n",
    "- marital-status: the plot counts shows the highest category for 'Married-civ-spouse'\n",
    "- occupation: the distribution shows similar counts for Profesional, Managerial and Sales categories, with \n",
    "lower values for Services or Manual labor\n",
    "- relationship: the most common category is \"Husband\"\n",
    "- race: the most common category is \"White\"\n",
    "- sex: \"Male\" category has the highest value counts\n",
    "- native-country: there are 41 countries from 3 continents, North-South America, Europe and Asia. USA has the highest count \n",
    "number among all countries."
   ]
  },
  {
   "cell_type": "code",
   "execution_count": 17,
   "metadata": {},
   "outputs": [],
   "source": [
    "# Consolidate categories in column 'education'\n",
    "\n",
    "# Consolidate Preschool, 1st-4th, 5th-6th, 7th-8th, 9th, 10th and 11th\n",
    "adult.loc[adult.loc[:, \"education\"] == \" Preschool\", \"education\"] = \" 12th\"\n",
    "adult.loc[adult.loc[:, \"education\"] == \" 1st-4th\", \"education\"] = \" 12th\"\n",
    "adult.loc[adult.loc[:, \"education\"] == \" 5th-6th\", \"education\"] = \" 12th\"\n",
    "adult.loc[adult.loc[:, \"education\"] == \" 7th-8th\", \"education\"] = \" 12th\"\n",
    "adult.loc[adult.loc[:, \"education\"] == \" 9th\", \"education\"] = \" 12th\"\n",
    "adult.loc[adult.loc[:, \"education\"] == \" 10th\", \"education\"] = \" 12th\"\n",
    "adult.loc[adult.loc[:, \"education\"] == \" 11th\", \"education\"] = \" 12th\"\n",
    "# Consolidate the rest of categories under Some-college (except HS-grad)\n",
    "adult.loc[adult.loc[:, \"education\"] == \" Assoc-voc\", \"education\"] = \" Some-college\"\n",
    "adult.loc[adult.loc[:, \"education\"] == \" Assoc-acdm\", \"education\"] = \" Some-college\"\n",
    "adult.loc[adult.loc[:, \"education\"] == \" Bachelors\", \"education\"] = \" Some-college\"\n",
    "adult.loc[adult.loc[:, \"education\"] == \" Masters\", \"education\"] = \" Some-college\"\n",
    "adult.loc[adult.loc[:, \"education\"] == \" Prof-school\", \"education\"] = \" Some-college\"\n",
    "adult.loc[adult.loc[:, \"education\"] == \" Doctorate\", \"education\"] = \" Some-college\"\n",
    "\n",
    "# Consolidate categories in column 'workclass'\n",
    "\n",
    "# Consolidate 'State-gov' and 'Federal-gov'\n",
    "adult.loc[adult.loc[:, \"workclass\"] == \" State-gov\", \"workclass\"] = \" Local-gov\"\n",
    "adult.loc[adult.loc[:, \"workclass\"] == \" Federal-gov\", \"workclass\"] = \" Local-gov\"\n",
    "# Consolidate 'Self-emp-inc', 'Without-pay' and 'Never-worked'\n",
    "adult.loc[adult.loc[:, \"workclass\"] == \" Self-emp-inc\", \"workclass\"] = \" Self-emp-not-inc\" \n",
    "adult.loc[adult.loc[:, \"workclass\"] == \" Without-pay\", \"workclass\"] = \" Self-emp-not-inc\" \n",
    "adult.loc[adult.loc[:, \"workclass\"] == \" Never-worked\", \"workclass\"] = \" Self-emp-not-inc\" \n",
    "\n",
    "# Consolidate categories in column 'marital-status' \n",
    "\n",
    "# Consolidate Married-spouse-absent and Married-AF-spouse\n",
    "adult.loc[adult.loc[:, \"marital-status\"] == \" Married-spouse-absent\", \"marital-status\"] = \" Married-civ-spouse\"\n",
    "adult.loc[adult.loc[:, \"marital-status\"] == \" Married-AF-spouse\", \"marital-status\"] = \" Married-civ-spouse\"\n",
    "# Consolidate Separated\n",
    "adult.loc[adult.loc[:, \"marital-status\"] == \" Separated\", \"marital-status\"] = \" Divorced\"\n",
    "\n",
    "# Consolidate categories in column 'occupation' \n",
    "\n",
    "# Consolidate category Exec-managerial\n",
    "adult.loc[adult.loc[:, \"occupation\"] == \" Exec-managerial\", \"occupation\"] = \" Prof-specialty\"\n",
    "# Consolidate Adm-clerical, Tech-support, Other-service, Protective-serv, Priv-house-serv\n",
    "adult.loc[adult.loc[:, \"occupation\"] == \" Adm-clerical\", \"occupation\"] = \" Sales\"\n",
    "adult.loc[adult.loc[:, \"occupation\"] == \" Tech-support\", \"occupation\"] = \" Sales\"\n",
    "adult.loc[adult.loc[:, \"occupation\"] == \" Other-service\", \"occupation\"] = \" Sales\"\n",
    "adult.loc[adult.loc[:, \"occupation\"] == \" Protective-serv\", \"occupation\"] = \" Sales\"\n",
    "adult.loc[adult.loc[:, \"occupation\"] == \" Priv-house-serv\", \"occupation\"] = \" Sales\"\n",
    "# Consolidate Machine-op-inspct, Transport-moving, Handlers-cleaners, \n",
    "# Farming-fishing, Armed-Forces\n",
    "adult.loc[adult.loc[:, \"occupation\"] == \" Machine-op-inspct\", \"occupation\"] = \" Craft-repair\"\n",
    "adult.loc[adult.loc[:, \"occupation\"] == \" Transport-moving\", \"occupation\"] = \" Craft-repair\"\n",
    "adult.loc[adult.loc[:, \"occupation\"] == \" Handlers-cleaners\", \"occupation\"] = \" Craft-repair\"\n",
    "adult.loc[adult.loc[:, \"occupation\"] == \" Farming-fishing\", \"occupation\"] = \" Craft-repair\"\n",
    "adult.loc[adult.loc[:, \"occupation\"] == \" Armed-Forces\", \"occupation\"] = \" Craft-repair\"\n",
    "\n",
    "# Consolidate categories in column 'relationship' \n",
    "\n",
    "# Consolidate category Wife\n",
    "adult.loc[adult.loc[:, \"relationship\"] == \" Wife\", \"relationship\"] = \" Husband\"\n",
    "# Consolidate Other-relative\n",
    "adult.loc[adult.loc[:, \"relationship\"] == \" Other-relative\", \"relationship\"] = \" Not-in-family\"\n",
    "\n",
    "# Consolidate categories in column 'native-country' by continents\n",
    "\n",
    "# Consolidate countries in North/South America\n",
    "adult.loc[adult.loc[:, \"native-country\"] == \" Canada\", \"native-country\"] = \" United-States\"\n",
    "adult.loc[adult.loc[:, \"native-country\"] == \" Mexico\", \"native-country\"] = \" United-States\"\n",
    "adult.loc[adult.loc[:, \"native-country\"] == \" Cuba\", \"native-country\"] = \" United-States\"\n",
    "adult.loc[adult.loc[:, \"native-country\"] == \" Dominican-Republic\", \"native-country\"] = \" United-States\"\n",
    "adult.loc[adult.loc[:, \"native-country\"] == \" El-Salvador\", \"native-country\"] = \" United-States\"\n",
    "adult.loc[adult.loc[:, \"native-country\"] == \" Puerto-Rico\", \"native-country\"] = \" United-States\"\n",
    "adult.loc[adult.loc[:, \"native-country\"] == \" Guatemala\", \"native-country\"] = \" United-States\"\n",
    "adult.loc[adult.loc[:, \"native-country\"] == \" Haiti\", \"native-country\"] = \" United-States\"\n",
    "adult.loc[adult.loc[:, \"native-country\"] == \" Honduras\", \"native-country\"] = \" United-States\"\n",
    "adult.loc[adult.loc[:, \"native-country\"] == \" Jamaica\", \"native-country\"] = \" United-States\"\n",
    "adult.loc[adult.loc[:, \"native-country\"] == \" Nicaragua\", \"native-country\"] = \" United-States\"\n",
    "adult.loc[adult.loc[:, \"native-country\"] == \" Trinadad&Tobago\", \"native-country\"] = \" United-States\"\n",
    "adult.loc[adult.loc[:, \"native-country\"] == \" Outlying-US(Guam-USVI-etc)\", \"native-country\"] = \" United-States\"\n",
    "adult.loc[adult.loc[:, \"native-country\"] == \" Columbia\", \"native-country\"] = \" United-States\"\n",
    "adult.loc[adult.loc[:, \"native-country\"] == \" Ecuador\", \"native-country\"] = \" United-States\"\n",
    "adult.loc[adult.loc[:, \"native-country\"] == \" Peru\", \"native-country\"] = \" United-States\"\n",
    "# Consolidate countries in Europe\n",
    "adult.loc[adult.loc[:, \"native-country\"] == \" England\", \"native-country\"] = \" Germany\"\n",
    "adult.loc[adult.loc[:, \"native-country\"] == \" Italy\", \"native-country\"] = \" Germany\"\n",
    "adult.loc[adult.loc[:, \"native-country\"] == \" Poland\", \"native-country\"] = \" Germany\"\n",
    "adult.loc[adult.loc[:, \"native-country\"] == \" Portugal\", \"native-country\"] = \" Germany\"\n",
    "adult.loc[adult.loc[:, \"native-country\"] == \" Greece\", \"native-country\"] = \" Germany\"\n",
    "adult.loc[adult.loc[:, \"native-country\"] == \" France\", \"native-country\"] = \" Germany\"\n",
    "adult.loc[adult.loc[:, \"native-country\"] == \" Ireland\", \"native-country\"] = \" Germany\"\n",
    "adult.loc[adult.loc[:, \"native-country\"] == \" Yugoslavia\", \"native-country\"] = \" Germany\"\n",
    "adult.loc[adult.loc[:, \"native-country\"] == \" Hungary\", \"native-country\"] = \" Germany\"\n",
    "adult.loc[adult.loc[:, \"native-country\"] == \" Scotland\", \"native-country\"] = \" Germany\"\n",
    "adult.loc[adult.loc[:, \"native-country\"] == \" Holand-Netherlands\", \"native-country\"] = \" Germany\"\n",
    "# Consolidate countries in Asia\n",
    "adult.loc[adult.loc[:, \"native-country\"] == \" India\", \"native-country\"] = \" Japan\"\n",
    "adult.loc[adult.loc[:, \"native-country\"] == \" Iran\", \"native-country\"] = \" Japan\"\n",
    "adult.loc[adult.loc[:, \"native-country\"] == \" Cambodia\", \"native-country\"] = \" Japan\"\n",
    "adult.loc[adult.loc[:, \"native-country\"] == \" Laos\", \"native-country\"] = \" Japan\"\n",
    "adult.loc[adult.loc[:, \"native-country\"] == \" Thailand\", \"native-country\"] = \" Japan\"\n",
    "adult.loc[adult.loc[:, \"native-country\"] == \" Vietnam\", \"native-country\"] = \" Japan\"\n",
    "adult.loc[adult.loc[:, \"native-country\"] == \" Philippines\", \"native-country\"] = \" Japan\"\n",
    "adult.loc[adult.loc[:, \"native-country\"] == \" China\", \"native-country\"] = \" Japan\"\n",
    "adult.loc[adult.loc[:, \"native-country\"] == \" Hong\", \"native-country\"] = \" Japan\"\n",
    "adult.loc[adult.loc[:, \"native-country\"] == \" South\", \"native-country\"] = \" Japan\"\n",
    "adult.loc[adult.loc[:, \"native-country\"] == \" Taiwan\", \"native-country\"] = \" Japan\""
   ]
  },
  {
   "cell_type": "markdown",
   "metadata": {},
   "source": [
    "Below are checked the categories after consolidating them."
   ]
  },
  {
   "cell_type": "code",
   "execution_count": null,
   "metadata": {},
   "outputs": [],
   "source": [
    "# Check the counts for consolidated categories in categorical columns\n",
    "\n",
    "#categorical_columns = [\"workclass\", \"education\", \"marital_status\", \"occupation\",\"relationship\", native_country\"]\n",
    "\n",
    "#for col in categorical_columns:\n",
    "#    print(adult[:, col].value_counts())"
   ]
  },
  {
   "cell_type": "markdown",
   "metadata": {},
   "source": [
    "### Replace classes in target variable"
   ]
  },
  {
   "cell_type": "markdown",
   "metadata": {},
   "source": [
    "The frequency table for the target variable shows a slightly class imbalance of ~ 1:3 between the counts of income income less\n",
    "than 50K and higher than 50K:"
   ]
  },
  {
   "cell_type": "code",
   "execution_count": 18,
   "metadata": {},
   "outputs": [
    {
     "data": {
      "text/plain": [
       " <=50K    24720\n",
       " >50K      7841\n",
       "Name: income, dtype: int64"
      ]
     },
     "execution_count": 18,
     "metadata": {},
     "output_type": "execute_result"
    }
   ],
   "source": [
    "# Frequency count for target \"income\"\n",
    "adult.loc[:, 'income'].value_counts()"
   ]
  },
  {
   "cell_type": "markdown",
   "metadata": {},
   "source": [
    "Before building the classification model, we will replace the categories in the target with numeric values as follows:\n",
    "- income = <=50K: class 0\n",
    "- income >50K: class 1"
   ]
  },
  {
   "cell_type": "code",
   "execution_count": 19,
   "metadata": {},
   "outputs": [],
   "source": [
    "# Replace the categorical values in target\n",
    "adult[\"income\"] = adult[\"income\"].map({\" <=50K\": 0, \" >50K\": 1})\n",
    "\n",
    "#adult.loc[:, 'income'].value_counts()"
   ]
  },
  {
   "cell_type": "markdown",
   "metadata": {},
   "source": [
    "### One-hot encoding values"
   ]
  },
  {
   "cell_type": "markdown",
   "metadata": {},
   "source": [
    "Next, the values in the adult dataframe will be one-hot encoded using the pandas get_dummies(). The function takes as arguments\n",
    "the dataframe and the list of columns that will be hot encoded."
   ]
  },
  {
   "cell_type": "code",
   "execution_count": 20,
   "metadata": {},
   "outputs": [
    {
     "name": "stdout",
     "output_type": "stream",
     "text": [
      "(32561, 38)\n"
     ]
    }
   ],
   "source": [
    "# Check the shape and few rows before one-hot encoding\n",
    "#print(adult.shape)\n",
    "#adult.head(3)\n",
    "\n",
    "# Create a list with the columns for one-hot encoding\n",
    "col_encode = [\"age\", \"workclass\", \"education\", \"marital-status\", \"occupation\", \"relationship\", \"race\", \"sex\",\n",
    "             \"hours-per-week\", \"native-country\"]\n",
    "\n",
    "# Create a new dataframe for the encoded values\n",
    "adult_dummies = pd.get_dummies(adult, columns=col_encode)\n",
    "\n",
    "# Check the shape and columns after one-hot encoding\n",
    "print(adult_dummies.shape)\n",
    "#adult_dummies.columns"
   ]
  },
  {
   "cell_type": "markdown",
   "metadata": {},
   "source": [
    "### Apply K-Means"
   ]
  },
  {
   "cell_type": "markdown",
   "metadata": {},
   "source": [
    "The data was also analyzed by performing K-Means clustering using several attributes. The number of clusters was set to two, \n",
    "with the intention of initial grouping the unlabeled data into two categories coresponding to people with an income higher \n",
    "then 50k and people with an income lower than 50k. The cluster labels were added to the dataset."
   ]
  },
  {
   "cell_type": "code",
   "execution_count": 21,
   "metadata": {},
   "outputs": [],
   "source": [
    "# Create a datframe with the columns to use for KMeans\n",
    "X = adult_dummies.loc[:, [\"fnlwgt\", \"capital-gain\", \"capital-loss\", \n",
    "                  'age_17_25', 'age_25_45', 'age_45_65', 'age_Over65',\n",
    "                  'education_ 12th', 'education_ HS-grad', 'education_ Some-college',\n",
    "                  'occupation_ Craft-repair', 'occupation_ Prof-specialty', 'occupation_ Sales',\n",
    "                  'sex_ Female', 'sex_ Male',\n",
    "                  'hours-per-week_<40', 'hours-per-week_40', 'hours-per-week_>40', \n",
    "                  'native-country_ Germany', 'native-country_ Japan', 'native-country_ United-States']] \n",
    "\n",
    "# Build the model by calling K-Means from sklearn module, using two clusters\n",
    "kmeans = KMeans(n_clusters=2, max_iter=600, algorithm='auto')\n",
    "\n",
    "# Labels returned by KMeans\n",
    "Y = kmeans.fit_predict(X) \n",
    "\n",
    "# Cluster centroids returned by KMeans\n",
    "#C = kmeans.cluster_centers_                     \n",
    "\n",
    "# Add the cluster label to the dataset\n",
    "adult_dummies['KMeans-Cluster'] = Y   \n",
    "\n",
    "# Check the first few rows\n",
    "#adult_dummies.head(3)"
   ]
  },
  {
   "cell_type": "markdown",
   "metadata": {},
   "source": [
    "Next, the cleaned dataframe is saved as a csv file to be ready for use for building the machine learning models."
   ]
  },
  {
   "cell_type": "code",
   "execution_count": null,
   "metadata": {},
   "outputs": [],
   "source": [
    "# Save the cleaned dataframe as csv file\n",
    "#adult_dummies.to_csv(\"adult_dummies.csv\", sep=\",\", index=False)"
   ]
  },
  {
   "cell_type": "markdown",
   "metadata": {},
   "source": [
    "## Build classification models"
   ]
  },
  {
   "cell_type": "markdown",
   "metadata": {},
   "source": [
    "To build the calssification models, we need to create the label and the features datasets. Then, the dataset is split into \n",
    "training and testing sets. \n",
    "For splitting the dataset into training and testing sets it is used the \"train_test_split\" function from sklearn. Using a set \n",
    "for training the model and another set for testing it, avoids overfitting. The \"train_test_split\" function splits randomly the \n",
    "dataset using the \"test_size\" parameter. Based on the size of the dataset, the \"test_size\" was set to 0.2, which means that\n",
    "80% of data is used for training and 20% for testing. The parameter \"random_state\", which controls the shuffling applied to \n",
    "data before the split, was set to \"123\"."
   ]
  },
  {
   "cell_type": "code",
   "execution_count": 22,
   "metadata": {},
   "outputs": [
    {
     "name": "stdout",
     "output_type": "stream",
     "text": [
      "X_train:  (26048, 38)\n",
      "y_train:  (26048,)\n",
      "X_test:  (6513, 38)\n",
      "y_test:  (6513,)\n"
     ]
    }
   ],
   "source": [
    "# Create the label\n",
    "y = adult_dummies.loc[:, \"income\"]\n",
    "\n",
    "# Create the features\n",
    "X = adult_dummies.drop(\"income\", axis=1)\n",
    "\n",
    "# Check the first rows in X\n",
    "#X.head(3)\n",
    "\n",
    "# Split the dataset into training (80%) and testing (20%) sets\n",
    "X_train, X_test, y_train, y_test = train_test_split(X, y, test_size=0.2, random_state=123)\n",
    "\n",
    "# Print the shapes of the train and test sets\n",
    "print('X_train: ', X_train.shape)\n",
    "print('y_train: ', y_train.shape)\n",
    "print('X_test: ', X_test.shape)\n",
    "print('y_test: ', y_test.shape)"
   ]
  },
  {
   "cell_type": "markdown",
   "metadata": {},
   "source": [
    "To predict whether a person will make an income over 50K a year, were built two binary classification models\n",
    "which performed a two-class classification: a Logistic Regression classifier and a Random Forest classifier."
   ]
  },
  {
   "cell_type": "markdown",
   "metadata": {},
   "source": [
    "### Logistic Regression"
   ]
  },
  {
   "cell_type": "markdown",
   "metadata": {},
   "source": [
    "The Logistic Regression classifier does not require high computation power and it has straightforward interpretability. It \n",
    "outputs well-calibrated probabilities along with classification results. The sklearn function used is LogisticRegression(). \n",
    "For training the model it is used a maxim number of iterations parameter (max_iter) of 1000."
   ]
  },
  {
   "cell_type": "code",
   "execution_count": 23,
   "metadata": {},
   "outputs": [],
   "source": [
    "# Create the logistic regression model\n",
    "lr_clf = LogisticRegression(max_iter=1000).fit(X_train, y_train)\n",
    "\n",
    "# Get predictions for X_test\n",
    "y_pred = lr_clf.predict(X_test)"
   ]
  },
  {
   "cell_type": "markdown",
   "metadata": {},
   "source": [
    "Accuracy rate is used to evaluate the model's performance. Accuracy is calculated as the number of correct predictions divided \n",
    "by the total number of predictions. There are also other measures used to asses the model's performance which are relative to \n",
    "each class: Precision, Recall and F1-score."
   ]
  },
  {
   "cell_type": "code",
   "execution_count": 24,
   "metadata": {},
   "outputs": [
    {
     "name": "stdout",
     "output_type": "stream",
     "text": [
      "Accuracy rate:  0.84\n",
      "Precision:  0.57\n",
      "Recall:  0.57\n",
      "F1 Score: 0.64\n"
     ]
    }
   ],
   "source": [
    "# Determine Accuracy rate\n",
    "AR = accuracy_score(y_pred, y_test)\n",
    "print(\"Accuracy rate: \", np.round(AR, 2))\n",
    "\n",
    "# Calculate Precision\n",
    "P = precision_score(y_pred, y_test)\n",
    "print(\"Precision: \", np.round(P, 2))\n",
    "# Calculate Recall\n",
    "R = recall_score(y_pred, y_test)\n",
    "print(\"Recall: \", np.round(P, 2))\n",
    "# Calculate F1 score\n",
    "F1 = f1_score(y_test, y_pred)\n",
    "print(\"F1 Score:\", np.round(F1, 2))"
   ]
  },
  {
   "cell_type": "markdown",
   "metadata": {},
   "source": [
    "The Logistic Regression model has a high Accuracy rate of 0.84, showing a good ratio between the number of correct predictions \n",
    "from the total number of predictions. The F1 score has a value of 0.64, which shows a good balance between Precision and Recall.\n",
    "\n",
    "To further evaluate the model were used two other classification statistics, the Confusion Matrix and the ROC anlysis. "
   ]
  },
  {
   "cell_type": "code",
   "execution_count": 25,
   "metadata": {},
   "outputs": [
    {
     "name": "stdout",
     "output_type": "stream",
     "text": [
      "Confusion Matrix \n",
      " [[4569  678]\n",
      " [ 358  908]]\n",
      "\n",
      "TP, TN, FP, FN: 908 , 4569 , 678 , 358\n"
     ]
    }
   ],
   "source": [
    "# Determine Confusion Matrix\n",
    "CM = confusion_matrix(y_pred, y_test)\n",
    "tn, fp, fn, tp = CM.ravel()\n",
    "\n",
    "print(\"Confusion Matrix \\n\", CM)\n",
    "print(\"\\nTP, TN, FP, FN:\", tp, \",\", tn, \",\", fp, \",\", fn)"
   ]
  },
  {
   "cell_type": "markdown",
   "metadata": {},
   "source": [
    "In the Confusion Matrix, the main diagonal shows high values for the True Positives and the True Negatives which is an indicator\n",
    "that the classifier performs well. The values are calculated for the default probability threshold of 0.5.\n",
    "\n",
    "To calculate ROC and AUC, we will get the probabilities using the predict_proba() function. Using probabilities we can \n",
    "calculate the False Positive Rate (fpr), True Positive Rate (tpr) and probability thresholds (th)."
   ]
  },
  {
   "cell_type": "code",
   "execution_count": 26,
   "metadata": {},
   "outputs": [
    {
     "name": "stdout",
     "output_type": "stream",
     "text": [
      "AUC score LR: 0.89\n"
     ]
    }
   ],
   "source": [
    "# Get the probabilities for class 1\n",
    "BothProb = lr_clf.predict_proba(X_test)\n",
    "probClass1 = BothProb[:, 1]  \n",
    "\n",
    "# Calculate the fpr, tpr) and th using probablities\n",
    "fpr1, tpr1, th1 = roc_curve(y_test, probClass1)\n",
    "\n",
    "# Calculate AUC\n",
    "AUC_LR = auc(fpr1, tpr1)\n",
    "print(\"AUC score LR:\", np.round(AUC_LR, 2))"
   ]
  },
  {
   "cell_type": "markdown",
   "metadata": {},
   "source": [
    "The Area Under the Curve (AUC) for the Logistic Regression classifier has a high value of 0.89. \n",
    "The ROC curve is plotted below in green and it is close enough to the top left corner, showing how the True Positive Rate and \n",
    "the False Positive Rate relate to each other for all probability thresholds. "
   ]
  },
  {
   "cell_type": "markdown",
   "metadata": {},
   "source": [
    "### Random Forest classifier"
   ]
  },
  {
   "cell_type": "markdown",
   "metadata": {},
   "source": [
    "The Random Forest classifier is a flexible and easy to use algorithm. It is considered a highly accurate and robust method \n",
    "because of the number of decision trees participating. These are called the estimators (each estimator is a decision tree). \n",
    "For the model it was selected a number of estimators of 100. The samples that are used for each split is defined by 'mss' \n",
    "parameter and has a value of 2. For building the model it is used the RandomForestClassifier() function from sklearn. "
   ]
  },
  {
   "cell_type": "code",
   "execution_count": 27,
   "metadata": {},
   "outputs": [],
   "source": [
    "# Select the model parameters\n",
    "\n",
    "# number of trees parameter (estimators)\n",
    "estimators = 100            \n",
    "# mininum samples split parameter\n",
    "mss = 2  \n",
    "\n",
    "# Train the Model\n",
    "rf_clf = RandomForestClassifier(n_estimators=estimators, min_samples_split=mss).fit(X_train, y_train)\n",
    "\n",
    "# Get predictions for X_test\n",
    "y_pred = rf_clf.predict(X_test)"
   ]
  },
  {
   "cell_type": "markdown",
   "metadata": {},
   "source": [
    "The Random Forest performance is evaluated using the same metrics as for the Logistic Regression classifier."
   ]
  },
  {
   "cell_type": "code",
   "execution_count": 28,
   "metadata": {},
   "outputs": [
    {
     "name": "stdout",
     "output_type": "stream",
     "text": [
      "Accuracy rate:  0.81\n",
      "Precision:  0.57\n",
      "Recall:  0.57\n",
      "F1 Score: 0.6\n"
     ]
    }
   ],
   "source": [
    "# Determine Accuracy rate\n",
    "AR = accuracy_score(y_pred, y_test)\n",
    "print(\"Accuracy rate: \", np.round(AR, 2))\n",
    "\n",
    "# Calculate Precision\n",
    "P = precision_score(y_pred, y_test)\n",
    "print(\"Precision: \", np.round(P, 2))\n",
    "# Calculate Recall\n",
    "R = recall_score(y_pred, y_test)\n",
    "print(\"Recall: \", np.round(P, 2))\n",
    "# Calculate F1 score\n",
    "F1 = f1_score(y_test, y_pred)\n",
    "print(\"F1 Score:\", np.round(F1, 2))"
   ]
  },
  {
   "cell_type": "code",
   "execution_count": 29,
   "metadata": {},
   "outputs": [
    {
     "name": "stdout",
     "output_type": "stream",
     "text": [
      "Confusion Matrix \n",
      " [[4397  682]\n",
      " [ 530  904]]\n",
      "\n",
      "TP, TN, FP, FN: 904 , 4397 , 682 , 530\n"
     ]
    }
   ],
   "source": [
    "# Determine Confusion Matrix\n",
    "CM = confusion_matrix(y_pred, y_test)\n",
    "tn, fp, fn, tp = CM.ravel()\n",
    "\n",
    "print(\"Confusion Matrix \\n\", CM)\n",
    "print(\"\\nTP, TN, FP, FN:\", tp, \",\", tn, \",\", fp, \",\", fn)"
   ]
  },
  {
   "cell_type": "markdown",
   "metadata": {},
   "source": [
    "The Random Forest model has an accuracy rate of 0.81, slightly lower than the Logistic Regression model. Precision, \n",
    "Recall and F1-Score have similar values. The Confusion Matrixs displays also high values for True Positves and True Negatives, \n",
    "for a probability threshold of 0.5."
   ]
  },
  {
   "cell_type": "code",
   "execution_count": 30,
   "metadata": {},
   "outputs": [
    {
     "name": "stdout",
     "output_type": "stream",
     "text": [
      "AUC score RF: 0.86\n"
     ]
    }
   ],
   "source": [
    "# Apply the model\n",
    "\n",
    "# Get predicted probabilities for both classes\n",
    "BothProb = rf_clf.predict_proba(X_test)\n",
    "# Get probabilities for class 1 coresponding to Income > 50K\n",
    "probClass1 = BothProb[:, 1]\n",
    "\n",
    "# Calculate False Positive Rate (fpr), True Positive Rate (tpr) and Probability Thresholds (th)\n",
    "# using probablities for class 1\n",
    "fpr2, tpr2, th2 = roc_curve(y_test, probClass1)\n",
    "\n",
    "# Calculate AUC\n",
    "AUC_RF = auc(fpr2, tpr2)\n",
    "print(\"AUC score RF:\", np.round(AUC_RF, 2))"
   ]
  },
  {
   "cell_type": "markdown",
   "metadata": {},
   "source": [
    "The AUC for the Random Forest classifier is 0.86, slightly lower than the Logistic Regression model. The ROC curve is displayed\n",
    "in orange below."
   ]
  },
  {
   "cell_type": "markdown",
   "metadata": {},
   "source": [
    "#### ROC analysis for both classifiers"
   ]
  },
  {
   "cell_type": "code",
   "execution_count": 31,
   "metadata": {},
   "outputs": [
    {
     "data": {
      "image/png": "[encoded data removed]",
      "text/plain": [
       "<Figure size 432x432 with 1 Axes>"
      ]
     },
     "metadata": {
      "needs_background": "light"
     },
     "output_type": "display_data"
    }
   ],
   "source": [
    "# Set parameters (change default matplotlib parameters)\n",
    "plt.rcParams[\"figure.figsize\"] = [6, 6]\n",
    "font = {'family' : 'DejaVu Sans', 'weight' : 'bold', 'size' : 14}\n",
    "plt.rc('font', **font)       # This sets the font of all items to the font specified by the kwargs object, font.\n",
    "plt.figure()\n",
    "\n",
    "# Give a title to the plot and label the x and y axis\n",
    "plt.title('ROC Curve')\n",
    "plt.xlabel('FPR')\n",
    "plt.ylabel('TPR')\n",
    "\n",
    "# Plot the ROC curve for the Logistic Regression classifier\n",
    "plt.plot(fpr1, tpr1, color='darkgreen', LW=3, label='ROC curve LR (AUC=%0.2f)' % AUC_LR)\n",
    "\n",
    "# Plot the ROC curve for the Random Forest classifier\n",
    "plt.plot(fpr2, tpr2, color='darkorange', LW=3, label='ROC curve RF (AUC=%0.2f)' % AUC_RF)\n",
    "\n",
    "# Plot the reference line for a random classifier\n",
    "plt.plot([0, 1], [0, 1], color='navy', LW=3, linestyle='--')\n",
    "\n",
    "# Select the legend's place in the plot\n",
    "plt.legend(loc=\"lower right\")\n",
    "plt.show()"
   ]
  },
  {
   "cell_type": "markdown",
   "metadata": {},
   "source": [
    "The ROC analysis shows that the ROC curves for both classifiers are quite close to the top left corner. This is also demonstrated by the high values of their AUC scores: 0.89 for Logistic Regression and 0.86 for Random Forest classifier. "
   ]
  },
  {
   "cell_type": "markdown",
   "metadata": {},
   "source": [
    "### Conclusions"
   ]
  },
  {
   "cell_type": "markdown",
   "metadata": {},
   "source": [
    "The 'adult' dataset was cleaned and analysed, then were built two classification models for predicting a person's income. The \n",
    "models built were a Logistic Regression and a Random Forest classifiers. Looking at the metrics calculated for both models, it \n",
    "can be assesed the overall \"fit\" of each model. \n",
    "Comparing the Evaluation metrics, Confusion Matrix and ROC curve-AUC for both classifiers, it can be observed the following: \n",
    "- The F1 score is higher for the Logistic Regression classifiers than for the Random Forest classifier\n",
    "- Confusion Matrix for both classifiers shows high values on the main diagonal for the True Positives and the True Negatives \n",
    "and small values for False Negatives and False Positives.\n",
    "- The AUC for the Logistic Regression classifier has a value of 0.89, higher than for the Random Forest classifier (0.86). The \n",
    "ROC curves for both classifiers are close enough to the left corner.\n",
    "\n",
    "It seems that the Logistic Regression classifier shows a slightly more robust accuracy measure overall and a better performance\n",
    "than the Random Forest classifier for the selected model parameters. "
   ]
  }
 ],
 "metadata": {
  "kernelspec": {
   "display_name": "Python 3",
   "language": "python",
   "name": "python3"
  },
  "language_info": {
   "codemirror_mode": {
    "name": "ipython",
    "version": 3
   },
   "file_extension": ".py",
   "mimetype": "text/x-python",
   "name": "python",
   "nbconvert_exporter": "python",
   "pygments_lexer": "ipython3",
   "version": "3.7.6"
  }
 },
 "nbformat": 4,
 "nbformat_minor": 4
}
